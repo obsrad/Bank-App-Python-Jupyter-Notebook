{
 "cells": [
  {
   "cell_type": "code",
   "execution_count": 94,
   "id": "2a7315d5",
   "metadata": {},
   "outputs": [],
   "source": [
    "class Bank():\n",
    "    def __init__ (self):\n",
    "        self.customer_list = []\n",
    "        self.current_customer = None\n",
    "        \n",
    "    # funktion för att lägga till en ny kund\n",
    "    def add_customer(self, customer):\n",
    "        for c in self.customer_list:\n",
    "            if c.username == customer.username:\n",
    "                return False\n",
    "            \n",
    "        self.customer_list.append(customer)\n",
    "        return True\n",
    "\n",
    "    # funktion för att logga in\n",
    "    def login(self, username, password):\n",
    "        for customer in self.customer_list:\n",
    "            if customer.username == username and customer.password == password and self.current_customer == None:\n",
    "                self.current_customer = customer\n",
    "                return True\n",
    "        return False\n",
    "    \n",
    "    # funktion för att logga ut\n",
    "    def logout(self):\n",
    "        self.current_customer = None\n",
    "        return True\n",
    "    \n",
    "    # funktion för att kolla vilken användare som är inloggad.\n",
    "    def print_current_customer(self):\n",
    "        if self.current_customer:\n",
    "            print(f\"Logged in customer is {self.current_customer.username} with password {self.current_customer.password}\")\n",
    "            \n",
    "        else:\n",
    "            print(\"No customers are logged in.\")\n",
    "        \n",
    "    # funktion för att hämta alla customers\n",
    "    def get_customers(self):\n",
    "        for customer in self.customer_list:\n",
    "            print(customer.username)\n",
    "         \n",
    "    # funktion för att hämta en specifik användare\n",
    "    def get_customer(self, username):\n",
    "        for customer in self.customer_list:\n",
    "            if customer.username == username:\n",
    "                print(f\" Username: {customer.username}, Password: {customer.password}\")\n",
    "                return\n",
    "        \n",
    "        print(\"No customer with that name found.\")\n",
    "                \n",
    "    # funktion för att ändra en specifik användares lösenord\n",
    "    def change_customer_password(self, username, new_password):\n",
    "        for customer in self.customer_list:\n",
    "            if customer.username == username:\n",
    "                customer.password = new_password\n",
    "                return True\n",
    "        return False\n",
    "        \n",
    "    # funktion för att ta bort en kund från customer_list\n",
    "    def remove_customer_by_username(self, username): \n",
    "        for customer in self.customer_list:\n",
    "            if customer.username == username:\n",
    "                self.customer_list.remove(customer)\n",
    "                return True\n",
    "        return False\n",
    "              \n",
    "    # funktion för att lägga till ett konto\n",
    "    def add_account(self, accountid, balance):\n",
    "        if self.current_customer:\n",
    "            new_account = Account(accountid, balance) # tar in två argument och skapar ett nytt Account object med dem argumenten\n",
    "            self.current_customer.add_account_to_list(new_account)\n",
    "            return True\n",
    "        return False\n",
    "    \n",
    "    # funktion för att ta bort ett konto\n",
    "    def remove_account(self, accountid):\n",
    "        if self.current_customer:\n",
    "            for account in self.current_customer.account_list:\n",
    "                if account.accountid == accountid:\n",
    "                    self.current_customer.remove_account_from_list(accountid)\n",
    "                    return True\n",
    "        return False\n",
    "    \n",
    "    # funktion för att hämta alla konton under den som är inloggad just nu\n",
    "    def get_accounts(self):\n",
    "        if self.current_customer:\n",
    "            for account in self.current_customer.account_list:\n",
    "                print(f\"Account ID: {account.accountid}, Balance: {account.balance}\")\n",
    "        else:\n",
    "            print(\"No customer is logged in.\")\n",
    "       \n",
    "    # funktion för att hämta en specifik accountid's balance\n",
    "    def get_account(self, accountid):\n",
    "        if self.current_customer:\n",
    "            for account in self.current_customer.account_list:\n",
    "                if account.accountid == accountid:\n",
    "                    print(f\"The selected Account ID: {account.accountid}, has Balance: {account.balance}\")\n",
    "                    return account\n",
    "                    \n",
    "\n",
    "            print(\"Account ID not found.\")\n",
    "               \n",
    "\n",
    "    # funktion för att sätta in pengar\n",
    "    def deposit(self, accountid, amount):\n",
    "        if self.current_customer:\n",
    "            for account in self.current_customer.account_list:\n",
    "                if account.accountid == accountid:\n",
    "                    account.deposit(amount)\n",
    "                    print(f\"{amount} has been added to Account ID: {account.accountid}\")\n",
    "                    return\n",
    "            print(\"Account not found.\")\n",
    "        else:\n",
    "            print(\"No customer is logged in.\")\n",
    "    \n",
    "    # funktion för att ta ut pengar\n",
    "    def withdraw(self, accountid, amount):\n",
    "        if self.current_customer:\n",
    "            for account in self.current_customer.account_list:\n",
    "                if account.accountid == accountid and amount < account.balance:\n",
    "                    account.withdraw(amount)\n",
    "                    print(f\"{amount} has been withdrawn from Account ID: {account.accountid}\")\n",
    "                    return\n",
    "            print(\"Account not found or not enough funds available.\")\n",
    "        else:\n",
    "            print(\"No customer is logged in.\")\n"
   ]
  },
  {
   "cell_type": "code",
   "execution_count": 95,
   "id": "297615f7",
   "metadata": {},
   "outputs": [],
   "source": [
    "class Customer():\n",
    "    def __init__ (self, username, password):\n",
    "        self.username = username\n",
    "        self.password = password\n",
    "        self.account_list = []\n",
    "        \n",
    "              \n",
    "    def print_accounts(self):\n",
    "        for account in self.account_list:\n",
    "            print(f\"Account ID: {account.accountid}, Balance: {account.balance}\")\n",
    "        \n",
    "    # funktion for att lägga till ett nytt konto\n",
    "    def add_account_to_list(self, new_account):\n",
    "        self.account_list.append(new_account)\n",
    "        \n",
    "    # funktion for att ta bort ett konto\n",
    "    def remove_account_from_list(self, accountid):\n",
    "        for account in self.account_list:\n",
    "            if account.accountid == accountid:\n",
    "                self.account_list.remove(account)\n"
   ]
  },
  {
   "cell_type": "code",
   "execution_count": 96,
   "id": "a594c2bb",
   "metadata": {},
   "outputs": [],
   "source": [
    "class Account():\n",
    "    def __init__ (self, accountid, balance):\n",
    "        self.accountid = accountid\n",
    "        self.balance = balance\n",
    "        \n",
    "        \n",
    "    # funktion för att hämta saldot\n",
    "    def get_balance(self, accountid):\n",
    "        if self.accountid == accountid:\n",
    "            return self.balance\n",
    "        else:\n",
    "            print(\"Account ID not found.\")\n",
    "\n",
    "    \n",
    "    # funktion för att ändra saldot\n",
    "    def set_balance(self, accountid, new_balance):\n",
    "        if self.accountid == accountid:\n",
    "            self.balance = new_balance\n",
    "            return True\n",
    "        else:\n",
    "            return False\n",
    "        \n",
    "    # funktion för att sätta in pengar på konto\n",
    "    def deposit(self, amount):\n",
    "        self.balance += amount\n",
    "        \n",
    "    # funktion för att ta ut pengar från konto\n",
    "    def withdraw(self, amount):\n",
    "        if amount < self.balance:\n",
    "            self.balance -= amount"
   ]
  },
  {
   "cell_type": "markdown",
   "id": "72668216",
   "metadata": {},
   "source": [
    "### Start"
   ]
  },
  {
   "cell_type": "code",
   "execution_count": 97,
   "id": "1dc00cb5",
   "metadata": {},
   "outputs": [],
   "source": [
    "bank = Bank()"
   ]
  },
  {
   "cell_type": "markdown",
   "id": "8a8d2c78",
   "metadata": {},
   "source": [
    "### Customer funktioner"
   ]
  },
  {
   "cell_type": "code",
   "execution_count": 98,
   "id": "2df00f5b",
   "metadata": {},
   "outputs": [
    {
     "data": {
      "text/plain": [
       "True"
      ]
     },
     "execution_count": 98,
     "metadata": {},
     "output_type": "execute_result"
    }
   ],
   "source": [
    "customer = Customer(\"Bobby\", \"123bobby\")\n",
    "bank.add_customer(customer)"
   ]
  },
  {
   "cell_type": "code",
   "execution_count": 99,
   "id": "7d23a07b",
   "metadata": {},
   "outputs": [
    {
     "data": {
      "text/plain": [
       "True"
      ]
     },
     "execution_count": 99,
     "metadata": {},
     "output_type": "execute_result"
    }
   ],
   "source": [
    "customer = Customer(\"Jimmy\", \"jimmyboy3\")\n",
    "bank.add_customer(customer)"
   ]
  },
  {
   "cell_type": "code",
   "execution_count": 100,
   "id": "ff277d2d",
   "metadata": {},
   "outputs": [
    {
     "data": {
      "text/plain": [
       "True"
      ]
     },
     "execution_count": 100,
     "metadata": {},
     "output_type": "execute_result"
    }
   ],
   "source": [
    "customer = Customer(\"Eva\", \"eva4ever592\")\n",
    "bank.add_customer(customer)"
   ]
  },
  {
   "cell_type": "code",
   "execution_count": 101,
   "id": "bd5a3bdc",
   "metadata": {},
   "outputs": [
    {
     "data": {
      "text/plain": [
       "False"
      ]
     },
     "execution_count": 101,
     "metadata": {},
     "output_type": "execute_result"
    }
   ],
   "source": [
    "customer = Customer(\"Eva\", \"evaforeva\")\n",
    "bank.add_customer(customer)"
   ]
  },
  {
   "cell_type": "code",
   "execution_count": 102,
   "id": "54d1938c",
   "metadata": {},
   "outputs": [
    {
     "name": "stdout",
     "output_type": "stream",
     "text": [
      "Bobby\n",
      "Jimmy\n",
      "Eva\n"
     ]
    }
   ],
   "source": [
    "bank.get_customers()"
   ]
  },
  {
   "cell_type": "code",
   "execution_count": 103,
   "id": "184e3d51",
   "metadata": {
    "scrolled": true
   },
   "outputs": [
    {
     "name": "stdout",
     "output_type": "stream",
     "text": [
      " Username: Bobby, Password: 123bobby\n"
     ]
    }
   ],
   "source": [
    "bank.get_customer(\"Bobby\")"
   ]
  },
  {
   "cell_type": "code",
   "execution_count": 104,
   "id": "98b6b0cf",
   "metadata": {},
   "outputs": [
    {
     "data": {
      "text/plain": [
       "True"
      ]
     },
     "execution_count": 104,
     "metadata": {},
     "output_type": "execute_result"
    }
   ],
   "source": [
    "bank.remove_customer_by_username(\"Bobby\")"
   ]
  },
  {
   "cell_type": "code",
   "execution_count": 105,
   "id": "bccb4fc8",
   "metadata": {
    "scrolled": true
   },
   "outputs": [
    {
     "name": "stdout",
     "output_type": "stream",
     "text": [
      "Jimmy\n",
      "Eva\n"
     ]
    }
   ],
   "source": [
    "bank.get_customers()"
   ]
  },
  {
   "cell_type": "code",
   "execution_count": 106,
   "id": "3b8bc95d",
   "metadata": {},
   "outputs": [
    {
     "name": "stdout",
     "output_type": "stream",
     "text": [
      " Username: Jimmy, Password: jimmyboy3\n"
     ]
    }
   ],
   "source": [
    "bank.get_customer(\"Jimmy\")"
   ]
  },
  {
   "cell_type": "code",
   "execution_count": 107,
   "id": "38c8ca1d",
   "metadata": {},
   "outputs": [
    {
     "data": {
      "text/plain": [
       "True"
      ]
     },
     "execution_count": 107,
     "metadata": {},
     "output_type": "execute_result"
    }
   ],
   "source": [
    "bank.change_customer_password(\"Jimmy\", \"coolpw3\")"
   ]
  },
  {
   "cell_type": "code",
   "execution_count": 108,
   "id": "b09c9c83",
   "metadata": {
    "scrolled": false
   },
   "outputs": [
    {
     "name": "stdout",
     "output_type": "stream",
     "text": [
      " Username: Jimmy, Password: coolpw3\n"
     ]
    }
   ],
   "source": [
    "bank.get_customer(\"Jimmy\")"
   ]
  },
  {
   "cell_type": "code",
   "execution_count": 109,
   "id": "3c112d49",
   "metadata": {},
   "outputs": [
    {
     "name": "stdout",
     "output_type": "stream",
     "text": [
      "No customers are logged in.\n"
     ]
    }
   ],
   "source": [
    "bank.print_current_customer()"
   ]
  },
  {
   "cell_type": "markdown",
   "id": "54e9745a",
   "metadata": {},
   "source": [
    "### Login & Logout"
   ]
  },
  {
   "cell_type": "code",
   "execution_count": 110,
   "id": "7eebc3bf",
   "metadata": {},
   "outputs": [
    {
     "data": {
      "text/plain": [
       "False"
      ]
     },
     "execution_count": 110,
     "metadata": {},
     "output_type": "execute_result"
    }
   ],
   "source": [
    "bank.login(\"Eva\", \"coolpw\")"
   ]
  },
  {
   "cell_type": "code",
   "execution_count": 111,
   "id": "8f424e16",
   "metadata": {},
   "outputs": [
    {
     "data": {
      "text/plain": [
       "True"
      ]
     },
     "execution_count": 111,
     "metadata": {},
     "output_type": "execute_result"
    }
   ],
   "source": [
    "bank.login(\"Eva\", \"eva4ever592\")"
   ]
  },
  {
   "cell_type": "code",
   "execution_count": 112,
   "id": "3ee66d8c",
   "metadata": {},
   "outputs": [
    {
     "name": "stdout",
     "output_type": "stream",
     "text": [
      "Logged in customer is Eva with password eva4ever592\n"
     ]
    }
   ],
   "source": [
    "bank.print_current_customer()"
   ]
  },
  {
   "cell_type": "code",
   "execution_count": 113,
   "id": "82f8b9aa",
   "metadata": {},
   "outputs": [
    {
     "data": {
      "text/plain": [
       "True"
      ]
     },
     "execution_count": 113,
     "metadata": {},
     "output_type": "execute_result"
    }
   ],
   "source": [
    "bank.logout()"
   ]
  },
  {
   "cell_type": "markdown",
   "id": "134e8f6d",
   "metadata": {},
   "source": [
    "### Account funktioner"
   ]
  },
  {
   "cell_type": "code",
   "execution_count": 114,
   "id": "fbd3125c",
   "metadata": {},
   "outputs": [
    {
     "data": {
      "text/plain": [
       "True"
      ]
     },
     "execution_count": 114,
     "metadata": {},
     "output_type": "execute_result"
    }
   ],
   "source": [
    "bank.login(\"Eva\", \"eva4ever592\")"
   ]
  },
  {
   "cell_type": "code",
   "execution_count": 115,
   "id": "70cce542",
   "metadata": {},
   "outputs": [
    {
     "data": {
      "text/plain": [
       "True"
      ]
     },
     "execution_count": 115,
     "metadata": {},
     "output_type": "execute_result"
    }
   ],
   "source": [
    "bank.add_account(1, 500)"
   ]
  },
  {
   "cell_type": "code",
   "execution_count": 116,
   "id": "826388b9",
   "metadata": {},
   "outputs": [
    {
     "data": {
      "text/plain": [
       "True"
      ]
     },
     "execution_count": 116,
     "metadata": {},
     "output_type": "execute_result"
    }
   ],
   "source": [
    "bank.add_account(2, 2000)"
   ]
  },
  {
   "cell_type": "code",
   "execution_count": 117,
   "id": "8b8cf86a",
   "metadata": {},
   "outputs": [
    {
     "name": "stdout",
     "output_type": "stream",
     "text": [
      "Account ID: 1, Balance: 500\n",
      "Account ID: 2, Balance: 2000\n"
     ]
    }
   ],
   "source": [
    "bank.get_accounts()"
   ]
  },
  {
   "cell_type": "code",
   "execution_count": 118,
   "id": "c7215e72",
   "metadata": {},
   "outputs": [
    {
     "data": {
      "text/plain": [
       "True"
      ]
     },
     "execution_count": 118,
     "metadata": {},
     "output_type": "execute_result"
    }
   ],
   "source": [
    "bank.remove_account(2)"
   ]
  },
  {
   "cell_type": "code",
   "execution_count": 119,
   "id": "c311ec65",
   "metadata": {},
   "outputs": [
    {
     "name": "stdout",
     "output_type": "stream",
     "text": [
      "Account ID: 1, Balance: 500\n"
     ]
    }
   ],
   "source": [
    "bank.get_accounts()"
   ]
  },
  {
   "cell_type": "code",
   "execution_count": 120,
   "id": "0b616f02",
   "metadata": {},
   "outputs": [
    {
     "name": "stdout",
     "output_type": "stream",
     "text": [
      "3 has been added to Account ID: 1\n"
     ]
    }
   ],
   "source": [
    "bank.deposit(1, 3)"
   ]
  },
  {
   "cell_type": "code",
   "execution_count": 121,
   "id": "4b77e7fc",
   "metadata": {},
   "outputs": [
    {
     "name": "stdout",
     "output_type": "stream",
     "text": [
      "Account ID: 1, Balance: 503\n"
     ]
    }
   ],
   "source": [
    "bank.get_accounts()"
   ]
  },
  {
   "cell_type": "code",
   "execution_count": 122,
   "id": "b9f109b4",
   "metadata": {},
   "outputs": [
    {
     "name": "stdout",
     "output_type": "stream",
     "text": [
      "45 has been withdrawn from Account ID: 1\n"
     ]
    }
   ],
   "source": [
    "bank.withdraw(1, 45)"
   ]
  },
  {
   "cell_type": "code",
   "execution_count": 123,
   "id": "91efac50",
   "metadata": {},
   "outputs": [
    {
     "name": "stdout",
     "output_type": "stream",
     "text": [
      "Account ID: 1, Balance: 458\n"
     ]
    }
   ],
   "source": [
    "bank.get_accounts()"
   ]
  },
  {
   "cell_type": "code",
   "execution_count": 124,
   "id": "fc126b41",
   "metadata": {},
   "outputs": [
    {
     "data": {
      "text/plain": [
       "True"
      ]
     },
     "execution_count": 124,
     "metadata": {},
     "output_type": "execute_result"
    }
   ],
   "source": [
    "bank.logout()"
   ]
  },
  {
   "cell_type": "code",
   "execution_count": null,
   "id": "6e609776",
   "metadata": {},
   "outputs": [],
   "source": []
  }
 ],
 "metadata": {
  "kernelspec": {
   "display_name": "Python 3 (ipykernel)",
   "language": "python",
   "name": "python3"
  },
  "language_info": {
   "codemirror_mode": {
    "name": "ipython",
    "version": 3
   },
   "file_extension": ".py",
   "mimetype": "text/x-python",
   "name": "python",
   "nbconvert_exporter": "python",
   "pygments_lexer": "ipython3",
   "version": "3.9.13"
  }
 },
 "nbformat": 4,
 "nbformat_minor": 5
}
